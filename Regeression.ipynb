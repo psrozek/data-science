{
 "cells": [
  {
   "cell_type": "markdown",
   "metadata": {},
   "source": [
    "# Regression"
   ]
  },
  {
   "cell_type": "markdown",
   "metadata": {},
   "source": [
    "## Loading and Preparing the Data for Analysis"
   ]
  },
  {
   "cell_type": "markdown",
   "metadata": {},
   "source": [
    "### based on Exercise 2.01 from \"The Data Science Workshop\", published by Packt"
   ]
  },
  {
   "cell_type": "markdown",
   "metadata": {},
   "source": [
    "#### import modules"
   ]
  },
  {
   "cell_type": "code",
   "execution_count": 2,
   "metadata": {},
   "outputs": [],
   "source": [
    "%matplotlib inline\n",
    "import pandas as pd\n",
    "import numpy as np\n",
    "import matplotlib as mpl\n",
    "import matplotlib.pyplot as plt\n",
    "import seaborn as sns\n",
    "import patsy\n",
    "from sklearn.model_selection import train_test_split\n",
    "from statsmodels.graphics.correlation import plot_corr\n",
    "import statsmodels.formula.api as smf\n",
    "import statsmodels.graphics.api as smg\n",
    "plt.style.use('seaborn')"
   ]
  },
  {
   "cell_type": "markdown",
   "metadata": {},
   "source": [
    "#### load dataset using pandas (available here: https://github.com/PacktWorkshops/The-Data-Science-Workshop/blob/master/Chapter02/Dataset/Boston.csv)"
   ]
  },
  {
   "cell_type": "code",
   "execution_count": 3,
   "metadata": {},
   "outputs": [],
   "source": [
    "raw_data = pd.read_csv('Boston.csv')"
   ]
  },
  {
   "cell_type": "markdown",
   "metadata": {},
   "source": [
    "#### .head() shows first 5 rows"
   ]
  },
  {
   "cell_type": "code",
   "execution_count": 4,
   "metadata": {},
   "outputs": [
    {
     "data": {
      "text/html": [
       "<div>\n",
       "<style scoped>\n",
       "    .dataframe tbody tr th:only-of-type {\n",
       "        vertical-align: middle;\n",
       "    }\n",
       "\n",
       "    .dataframe tbody tr th {\n",
       "        vertical-align: top;\n",
       "    }\n",
       "\n",
       "    .dataframe thead th {\n",
       "        text-align: right;\n",
       "    }\n",
       "</style>\n",
       "<table border=\"1\" class=\"dataframe\">\n",
       "  <thead>\n",
       "    <tr style=\"text-align: right;\">\n",
       "      <th></th>\n",
       "      <th>CRIM</th>\n",
       "      <th>ZN</th>\n",
       "      <th>INDUS</th>\n",
       "      <th>CHAS</th>\n",
       "      <th>NOX</th>\n",
       "      <th>RM</th>\n",
       "      <th>AGE</th>\n",
       "      <th>DIS</th>\n",
       "      <th>RAD</th>\n",
       "      <th>TAX</th>\n",
       "      <th>PTRATIO</th>\n",
       "      <th>LSTAT</th>\n",
       "      <th>MEDV</th>\n",
       "    </tr>\n",
       "  </thead>\n",
       "  <tbody>\n",
       "    <tr>\n",
       "      <th>0</th>\n",
       "      <td>0.00632</td>\n",
       "      <td>18.0</td>\n",
       "      <td>2.31</td>\n",
       "      <td>0</td>\n",
       "      <td>0.538</td>\n",
       "      <td>6.575</td>\n",
       "      <td>65.2</td>\n",
       "      <td>4.0900</td>\n",
       "      <td>1</td>\n",
       "      <td>296</td>\n",
       "      <td>15.3</td>\n",
       "      <td>4.98</td>\n",
       "      <td>24.0</td>\n",
       "    </tr>\n",
       "    <tr>\n",
       "      <th>1</th>\n",
       "      <td>0.02731</td>\n",
       "      <td>0.0</td>\n",
       "      <td>7.07</td>\n",
       "      <td>0</td>\n",
       "      <td>0.469</td>\n",
       "      <td>6.421</td>\n",
       "      <td>78.9</td>\n",
       "      <td>4.9671</td>\n",
       "      <td>2</td>\n",
       "      <td>242</td>\n",
       "      <td>17.8</td>\n",
       "      <td>9.14</td>\n",
       "      <td>21.6</td>\n",
       "    </tr>\n",
       "    <tr>\n",
       "      <th>2</th>\n",
       "      <td>0.02729</td>\n",
       "      <td>0.0</td>\n",
       "      <td>7.07</td>\n",
       "      <td>0</td>\n",
       "      <td>0.469</td>\n",
       "      <td>7.185</td>\n",
       "      <td>61.1</td>\n",
       "      <td>4.9671</td>\n",
       "      <td>2</td>\n",
       "      <td>242</td>\n",
       "      <td>17.8</td>\n",
       "      <td>4.03</td>\n",
       "      <td>34.7</td>\n",
       "    </tr>\n",
       "    <tr>\n",
       "      <th>3</th>\n",
       "      <td>0.03237</td>\n",
       "      <td>0.0</td>\n",
       "      <td>2.18</td>\n",
       "      <td>0</td>\n",
       "      <td>0.458</td>\n",
       "      <td>6.998</td>\n",
       "      <td>45.8</td>\n",
       "      <td>6.0622</td>\n",
       "      <td>3</td>\n",
       "      <td>222</td>\n",
       "      <td>18.7</td>\n",
       "      <td>2.94</td>\n",
       "      <td>33.4</td>\n",
       "    </tr>\n",
       "    <tr>\n",
       "      <th>4</th>\n",
       "      <td>0.06905</td>\n",
       "      <td>0.0</td>\n",
       "      <td>2.18</td>\n",
       "      <td>0</td>\n",
       "      <td>0.458</td>\n",
       "      <td>7.147</td>\n",
       "      <td>54.2</td>\n",
       "      <td>6.0622</td>\n",
       "      <td>3</td>\n",
       "      <td>222</td>\n",
       "      <td>18.7</td>\n",
       "      <td>5.33</td>\n",
       "      <td>36.2</td>\n",
       "    </tr>\n",
       "  </tbody>\n",
       "</table>\n",
       "</div>"
      ],
      "text/plain": [
       "      CRIM   ZN   INDUS   CHAS    NOX     RM   AGE     DIS  RAD  TAX  PTRATIO  \\\n",
       "0  0.00632  18.0    2.31     0  0.538  6.575  65.2  4.0900    1  296     15.3   \n",
       "1  0.02731   0.0    7.07     0  0.469  6.421  78.9  4.9671    2  242     17.8   \n",
       "2  0.02729   0.0    7.07     0  0.469  7.185  61.1  4.9671    2  242     17.8   \n",
       "3  0.03237   0.0    2.18     0  0.458  6.998  45.8  6.0622    3  222     18.7   \n",
       "4  0.06905   0.0    2.18     0  0.458  7.147  54.2  6.0622    3  222     18.7   \n",
       "\n",
       "   LSTAT  MEDV  \n",
       "0   4.98  24.0  \n",
       "1   9.14  21.6  \n",
       "2   4.03  34.7  \n",
       "3   2.94  33.4  \n",
       "4   5.33  36.2  "
      ]
     },
     "execution_count": 4,
     "metadata": {},
     "output_type": "execute_result"
    }
   ],
   "source": [
    "raw_data.head()"
   ]
  },
  {
   "cell_type": "markdown",
   "metadata": {},
   "source": [
    "#### check for missing values ( .dropna() ) and duplicates ( .drop_duplicates() )"
   ]
  },
  {
   "cell_type": "code",
   "execution_count": 5,
   "metadata": {},
   "outputs": [],
   "source": [
    "raw_data = raw_data.dropna()"
   ]
  },
  {
   "cell_type": "code",
   "execution_count": 6,
   "metadata": {},
   "outputs": [],
   "source": [
    "raw_data = raw_data.drop_duplicates()"
   ]
  },
  {
   "cell_type": "markdown",
   "metadata": {},
   "source": [
    "#### show column names and rename meaningfully ( .info() for data types )"
   ]
  },
  {
   "cell_type": "code",
   "execution_count": 7,
   "metadata": {},
   "outputs": [
    {
     "data": {
      "text/plain": [
       "['CRIM',\n",
       " ' ZN ',\n",
       " 'INDUS ',\n",
       " 'CHAS',\n",
       " 'NOX',\n",
       " 'RM',\n",
       " 'AGE',\n",
       " 'DIS',\n",
       " 'RAD',\n",
       " 'TAX',\n",
       " 'PTRATIO',\n",
       " 'LSTAT',\n",
       " 'MEDV']"
      ]
     },
     "execution_count": 7,
     "metadata": {},
     "output_type": "execute_result"
    }
   ],
   "source": [
    "list(raw_data.columns)"
   ]
  },
  {
   "cell_type": "code",
   "execution_count": 8,
   "metadata": {},
   "outputs": [],
   "source": [
    "renamed_data = raw_data.rename(columns = {'CRIM' : 'crime_rate_per_capita',\\\n",
    "                                         ' ZN ' : 'land_over_25k_sqft',\\\n",
    "                                         'INDUS ' : 'non_retail_proportion',\\\n",
    "                                         'CHAS' : 'river_dummy',\\\n",
    "                                         'NOX' : 'nitric_oxide_pp10m',\\\n",
    "                                         'RM' : 'avg_rooms',\\\n",
    "                                         'AGE' : 'bulit_prior1940_proportion',\\\n",
    "                                         'DIS' : 'distances_employment',\n",
    "                                         'RAD' : 'radial_highways_access',\\\n",
    "                                         'TAX' : 'property_tax_rate_per10k',\\\n",
    "                                         'PTRATIO' : 'pupil_teacher_ratio',\\\n",
    "                                         'LSTAT' : 'lower_status_percentage',\\\n",
    "                                         'MEDV' : 'median_value_homes'})"
   ]
  },
  {
   "cell_type": "code",
   "execution_count": 9,
   "metadata": {},
   "outputs": [
    {
     "data": {
      "text/html": [
       "<div>\n",
       "<style scoped>\n",
       "    .dataframe tbody tr th:only-of-type {\n",
       "        vertical-align: middle;\n",
       "    }\n",
       "\n",
       "    .dataframe tbody tr th {\n",
       "        vertical-align: top;\n",
       "    }\n",
       "\n",
       "    .dataframe thead th {\n",
       "        text-align: right;\n",
       "    }\n",
       "</style>\n",
       "<table border=\"1\" class=\"dataframe\">\n",
       "  <thead>\n",
       "    <tr style=\"text-align: right;\">\n",
       "      <th></th>\n",
       "      <th>crime_rate_per_capita</th>\n",
       "      <th>land_over_25k_sqft</th>\n",
       "      <th>non_retail_proportion</th>\n",
       "      <th>river_dummy</th>\n",
       "      <th>nitric_oxide_pp10m</th>\n",
       "      <th>avg_rooms</th>\n",
       "      <th>bulit_prior1940_proportion</th>\n",
       "      <th>distances_employment</th>\n",
       "      <th>radial_highways_access</th>\n",
       "      <th>property_tax_rate_per10k</th>\n",
       "      <th>pupil_teacher_ratio</th>\n",
       "      <th>lower_status_percentage</th>\n",
       "      <th>median_value_homes</th>\n",
       "    </tr>\n",
       "  </thead>\n",
       "  <tbody>\n",
       "    <tr>\n",
       "      <th>0</th>\n",
       "      <td>0.00632</td>\n",
       "      <td>18.0</td>\n",
       "      <td>2.31</td>\n",
       "      <td>0</td>\n",
       "      <td>0.538</td>\n",
       "      <td>6.575</td>\n",
       "      <td>65.2</td>\n",
       "      <td>4.0900</td>\n",
       "      <td>1</td>\n",
       "      <td>296</td>\n",
       "      <td>15.3</td>\n",
       "      <td>4.98</td>\n",
       "      <td>24.0</td>\n",
       "    </tr>\n",
       "    <tr>\n",
       "      <th>1</th>\n",
       "      <td>0.02731</td>\n",
       "      <td>0.0</td>\n",
       "      <td>7.07</td>\n",
       "      <td>0</td>\n",
       "      <td>0.469</td>\n",
       "      <td>6.421</td>\n",
       "      <td>78.9</td>\n",
       "      <td>4.9671</td>\n",
       "      <td>2</td>\n",
       "      <td>242</td>\n",
       "      <td>17.8</td>\n",
       "      <td>9.14</td>\n",
       "      <td>21.6</td>\n",
       "    </tr>\n",
       "    <tr>\n",
       "      <th>2</th>\n",
       "      <td>0.02729</td>\n",
       "      <td>0.0</td>\n",
       "      <td>7.07</td>\n",
       "      <td>0</td>\n",
       "      <td>0.469</td>\n",
       "      <td>7.185</td>\n",
       "      <td>61.1</td>\n",
       "      <td>4.9671</td>\n",
       "      <td>2</td>\n",
       "      <td>242</td>\n",
       "      <td>17.8</td>\n",
       "      <td>4.03</td>\n",
       "      <td>34.7</td>\n",
       "    </tr>\n",
       "    <tr>\n",
       "      <th>3</th>\n",
       "      <td>0.03237</td>\n",
       "      <td>0.0</td>\n",
       "      <td>2.18</td>\n",
       "      <td>0</td>\n",
       "      <td>0.458</td>\n",
       "      <td>6.998</td>\n",
       "      <td>45.8</td>\n",
       "      <td>6.0622</td>\n",
       "      <td>3</td>\n",
       "      <td>222</td>\n",
       "      <td>18.7</td>\n",
       "      <td>2.94</td>\n",
       "      <td>33.4</td>\n",
       "    </tr>\n",
       "    <tr>\n",
       "      <th>4</th>\n",
       "      <td>0.06905</td>\n",
       "      <td>0.0</td>\n",
       "      <td>2.18</td>\n",
       "      <td>0</td>\n",
       "      <td>0.458</td>\n",
       "      <td>7.147</td>\n",
       "      <td>54.2</td>\n",
       "      <td>6.0622</td>\n",
       "      <td>3</td>\n",
       "      <td>222</td>\n",
       "      <td>18.7</td>\n",
       "      <td>5.33</td>\n",
       "      <td>36.2</td>\n",
       "    </tr>\n",
       "  </tbody>\n",
       "</table>\n",
       "</div>"
      ],
      "text/plain": [
       "   crime_rate_per_capita  land_over_25k_sqft  non_retail_proportion  \\\n",
       "0                0.00632                18.0                   2.31   \n",
       "1                0.02731                 0.0                   7.07   \n",
       "2                0.02729                 0.0                   7.07   \n",
       "3                0.03237                 0.0                   2.18   \n",
       "4                0.06905                 0.0                   2.18   \n",
       "\n",
       "   river_dummy  nitric_oxide_pp10m  avg_rooms  bulit_prior1940_proportion  \\\n",
       "0            0               0.538      6.575                        65.2   \n",
       "1            0               0.469      6.421                        78.9   \n",
       "2            0               0.469      7.185                        61.1   \n",
       "3            0               0.458      6.998                        45.8   \n",
       "4            0               0.458      7.147                        54.2   \n",
       "\n",
       "   distances_employment  radial_highways_access  property_tax_rate_per10k  \\\n",
       "0                4.0900                       1                       296   \n",
       "1                4.9671                       2                       242   \n",
       "2                4.9671                       2                       242   \n",
       "3                6.0622                       3                       222   \n",
       "4                6.0622                       3                       222   \n",
       "\n",
       "   pupil_teacher_ratio  lower_status_percentage  median_value_homes  \n",
       "0                 15.3                     4.98                24.0  \n",
       "1                 17.8                     9.14                21.6  \n",
       "2                 17.8                     4.03                34.7  \n",
       "3                 18.7                     2.94                33.4  \n",
       "4                 18.7                     5.33                36.2  "
      ]
     },
     "execution_count": 9,
     "metadata": {},
     "output_type": "execute_result"
    }
   ],
   "source": [
    "renamed_data.head()"
   ]
  },
  {
   "cell_type": "code",
   "execution_count": 10,
   "metadata": {},
   "outputs": [
    {
     "name": "stdout",
     "output_type": "stream",
     "text": [
      "<class 'pandas.core.frame.DataFrame'>\n",
      "Int64Index: 506 entries, 0 to 505\n",
      "Data columns (total 13 columns):\n",
      " #   Column                      Non-Null Count  Dtype  \n",
      "---  ------                      --------------  -----  \n",
      " 0   crime_rate_per_capita       506 non-null    float64\n",
      " 1   land_over_25k_sqft          506 non-null    float64\n",
      " 2   non_retail_proportion       506 non-null    float64\n",
      " 3   river_dummy                 506 non-null    int64  \n",
      " 4   nitric_oxide_pp10m          506 non-null    float64\n",
      " 5   avg_rooms                   506 non-null    float64\n",
      " 6   bulit_prior1940_proportion  506 non-null    float64\n",
      " 7   distances_employment        506 non-null    float64\n",
      " 8   radial_highways_access      506 non-null    int64  \n",
      " 9   property_tax_rate_per10k    506 non-null    int64  \n",
      " 10  pupil_teacher_ratio         506 non-null    float64\n",
      " 11  lower_status_percentage     506 non-null    float64\n",
      " 12  median_value_homes          506 non-null    float64\n",
      "dtypes: float64(10), int64(3)\n",
      "memory usage: 55.3 KB\n"
     ]
    }
   ],
   "source": [
    "renamed_data.info()"
   ]
  },
  {
   "cell_type": "markdown",
   "metadata": {},
   "source": [
    "#### calculate basic statistics for columns with numpy number data type, ( .T for results transpose )"
   ]
  },
  {
   "cell_type": "code",
   "execution_count": 11,
   "metadata": {},
   "outputs": [
    {
     "data": {
      "text/html": [
       "<div>\n",
       "<style scoped>\n",
       "    .dataframe tbody tr th:only-of-type {\n",
       "        vertical-align: middle;\n",
       "    }\n",
       "\n",
       "    .dataframe tbody tr th {\n",
       "        vertical-align: top;\n",
       "    }\n",
       "\n",
       "    .dataframe thead th {\n",
       "        text-align: right;\n",
       "    }\n",
       "</style>\n",
       "<table border=\"1\" class=\"dataframe\">\n",
       "  <thead>\n",
       "    <tr style=\"text-align: right;\">\n",
       "      <th></th>\n",
       "      <th>count</th>\n",
       "      <th>mean</th>\n",
       "      <th>std</th>\n",
       "      <th>min</th>\n",
       "      <th>25%</th>\n",
       "      <th>50%</th>\n",
       "      <th>75%</th>\n",
       "      <th>max</th>\n",
       "    </tr>\n",
       "  </thead>\n",
       "  <tbody>\n",
       "    <tr>\n",
       "      <th>crime_rate_per_capita</th>\n",
       "      <td>506.0</td>\n",
       "      <td>3.613524</td>\n",
       "      <td>8.601545</td>\n",
       "      <td>0.00632</td>\n",
       "      <td>0.082045</td>\n",
       "      <td>0.25651</td>\n",
       "      <td>3.677082</td>\n",
       "      <td>88.9762</td>\n",
       "    </tr>\n",
       "    <tr>\n",
       "      <th>land_over_25k_sqft</th>\n",
       "      <td>506.0</td>\n",
       "      <td>11.363636</td>\n",
       "      <td>23.322453</td>\n",
       "      <td>0.00000</td>\n",
       "      <td>0.000000</td>\n",
       "      <td>0.00000</td>\n",
       "      <td>12.500000</td>\n",
       "      <td>100.0000</td>\n",
       "    </tr>\n",
       "    <tr>\n",
       "      <th>non_retail_proportion</th>\n",
       "      <td>506.0</td>\n",
       "      <td>11.136779</td>\n",
       "      <td>6.860353</td>\n",
       "      <td>0.46000</td>\n",
       "      <td>5.190000</td>\n",
       "      <td>9.69000</td>\n",
       "      <td>18.100000</td>\n",
       "      <td>27.7400</td>\n",
       "    </tr>\n",
       "    <tr>\n",
       "      <th>river_dummy</th>\n",
       "      <td>506.0</td>\n",
       "      <td>0.069170</td>\n",
       "      <td>0.253994</td>\n",
       "      <td>0.00000</td>\n",
       "      <td>0.000000</td>\n",
       "      <td>0.00000</td>\n",
       "      <td>0.000000</td>\n",
       "      <td>1.0000</td>\n",
       "    </tr>\n",
       "    <tr>\n",
       "      <th>nitric_oxide_pp10m</th>\n",
       "      <td>506.0</td>\n",
       "      <td>0.554695</td>\n",
       "      <td>0.115878</td>\n",
       "      <td>0.38500</td>\n",
       "      <td>0.449000</td>\n",
       "      <td>0.53800</td>\n",
       "      <td>0.624000</td>\n",
       "      <td>0.8710</td>\n",
       "    </tr>\n",
       "    <tr>\n",
       "      <th>avg_rooms</th>\n",
       "      <td>506.0</td>\n",
       "      <td>6.284634</td>\n",
       "      <td>0.702617</td>\n",
       "      <td>3.56100</td>\n",
       "      <td>5.885500</td>\n",
       "      <td>6.20850</td>\n",
       "      <td>6.623500</td>\n",
       "      <td>8.7800</td>\n",
       "    </tr>\n",
       "    <tr>\n",
       "      <th>bulit_prior1940_proportion</th>\n",
       "      <td>506.0</td>\n",
       "      <td>68.574901</td>\n",
       "      <td>28.148861</td>\n",
       "      <td>2.90000</td>\n",
       "      <td>45.025000</td>\n",
       "      <td>77.50000</td>\n",
       "      <td>94.075000</td>\n",
       "      <td>100.0000</td>\n",
       "    </tr>\n",
       "    <tr>\n",
       "      <th>distances_employment</th>\n",
       "      <td>506.0</td>\n",
       "      <td>3.795043</td>\n",
       "      <td>2.105710</td>\n",
       "      <td>1.12960</td>\n",
       "      <td>2.100175</td>\n",
       "      <td>3.20745</td>\n",
       "      <td>5.188425</td>\n",
       "      <td>12.1265</td>\n",
       "    </tr>\n",
       "    <tr>\n",
       "      <th>radial_highways_access</th>\n",
       "      <td>506.0</td>\n",
       "      <td>9.549407</td>\n",
       "      <td>8.707259</td>\n",
       "      <td>1.00000</td>\n",
       "      <td>4.000000</td>\n",
       "      <td>5.00000</td>\n",
       "      <td>24.000000</td>\n",
       "      <td>24.0000</td>\n",
       "    </tr>\n",
       "    <tr>\n",
       "      <th>property_tax_rate_per10k</th>\n",
       "      <td>506.0</td>\n",
       "      <td>408.237154</td>\n",
       "      <td>168.537116</td>\n",
       "      <td>187.00000</td>\n",
       "      <td>279.000000</td>\n",
       "      <td>330.00000</td>\n",
       "      <td>666.000000</td>\n",
       "      <td>711.0000</td>\n",
       "    </tr>\n",
       "    <tr>\n",
       "      <th>pupil_teacher_ratio</th>\n",
       "      <td>506.0</td>\n",
       "      <td>18.455534</td>\n",
       "      <td>2.164946</td>\n",
       "      <td>12.60000</td>\n",
       "      <td>17.400000</td>\n",
       "      <td>19.05000</td>\n",
       "      <td>20.200000</td>\n",
       "      <td>22.0000</td>\n",
       "    </tr>\n",
       "    <tr>\n",
       "      <th>lower_status_percentage</th>\n",
       "      <td>506.0</td>\n",
       "      <td>12.653063</td>\n",
       "      <td>7.141062</td>\n",
       "      <td>1.73000</td>\n",
       "      <td>6.950000</td>\n",
       "      <td>11.36000</td>\n",
       "      <td>16.955000</td>\n",
       "      <td>37.9700</td>\n",
       "    </tr>\n",
       "    <tr>\n",
       "      <th>median_value_homes</th>\n",
       "      <td>506.0</td>\n",
       "      <td>22.532806</td>\n",
       "      <td>9.197104</td>\n",
       "      <td>5.00000</td>\n",
       "      <td>17.025000</td>\n",
       "      <td>21.20000</td>\n",
       "      <td>25.000000</td>\n",
       "      <td>50.0000</td>\n",
       "    </tr>\n",
       "  </tbody>\n",
       "</table>\n",
       "</div>"
      ],
      "text/plain": [
       "                            count        mean         std        min  \\\n",
       "crime_rate_per_capita       506.0    3.613524    8.601545    0.00632   \n",
       "land_over_25k_sqft          506.0   11.363636   23.322453    0.00000   \n",
       "non_retail_proportion       506.0   11.136779    6.860353    0.46000   \n",
       "river_dummy                 506.0    0.069170    0.253994    0.00000   \n",
       "nitric_oxide_pp10m          506.0    0.554695    0.115878    0.38500   \n",
       "avg_rooms                   506.0    6.284634    0.702617    3.56100   \n",
       "bulit_prior1940_proportion  506.0   68.574901   28.148861    2.90000   \n",
       "distances_employment        506.0    3.795043    2.105710    1.12960   \n",
       "radial_highways_access      506.0    9.549407    8.707259    1.00000   \n",
       "property_tax_rate_per10k    506.0  408.237154  168.537116  187.00000   \n",
       "pupil_teacher_ratio         506.0   18.455534    2.164946   12.60000   \n",
       "lower_status_percentage     506.0   12.653063    7.141062    1.73000   \n",
       "median_value_homes          506.0   22.532806    9.197104    5.00000   \n",
       "\n",
       "                                   25%        50%         75%       max  \n",
       "crime_rate_per_capita         0.082045    0.25651    3.677082   88.9762  \n",
       "land_over_25k_sqft            0.000000    0.00000   12.500000  100.0000  \n",
       "non_retail_proportion         5.190000    9.69000   18.100000   27.7400  \n",
       "river_dummy                   0.000000    0.00000    0.000000    1.0000  \n",
       "nitric_oxide_pp10m            0.449000    0.53800    0.624000    0.8710  \n",
       "avg_rooms                     5.885500    6.20850    6.623500    8.7800  \n",
       "bulit_prior1940_proportion   45.025000   77.50000   94.075000  100.0000  \n",
       "distances_employment          2.100175    3.20745    5.188425   12.1265  \n",
       "radial_highways_access        4.000000    5.00000   24.000000   24.0000  \n",
       "property_tax_rate_per10k    279.000000  330.00000  666.000000  711.0000  \n",
       "pupil_teacher_ratio          17.400000   19.05000   20.200000   22.0000  \n",
       "lower_status_percentage       6.950000   11.36000   16.955000   37.9700  \n",
       "median_value_homes           17.025000   21.20000   25.000000   50.0000  "
      ]
     },
     "execution_count": 11,
     "metadata": {},
     "output_type": "execute_result"
    }
   ],
   "source": [
    "renamed_data.describe(include=[np.number]).T"
   ]
  },
  {
   "cell_type": "markdown",
   "metadata": {},
   "source": [
    "#### divide data into training and test sets"
   ]
  },
  {
   "cell_type": "code",
   "execution_count": 12,
   "metadata": {},
   "outputs": [],
   "source": [
    "X = renamed_data.drop('crime_rate_per_capita', axis = 1)\n",
    "y = renamed_data[['crime_rate_per_capita']]\n",
    "\n",
    "seed = 10\n",
    "test_data_size = 0.3  # data for test: 30%\n",
    "\n",
    "X_train, X_test, y_train, y_test = train_test_split(X, y, test_size = test_data_size, random_state = seed)\n",
    "\n",
    "train_data = pd.concat([X_train, y_train], axis = 1)\n",
    "test_data = pd.concat([X_test, y_test], axis = 1)"
   ]
  },
  {
   "cell_type": "markdown",
   "metadata": {},
   "source": [
    "#### plot correlation matrix"
   ]
  },
  {
   "cell_type": "code",
   "execution_count": 13,
   "metadata": {},
   "outputs": [
    {
     "data": {
      "image/png": "[encoded data removed]",
      "text/plain": [
       "<Figure size 576x396 with 2 Axes>"
      ]
     },
     "execution_count": 13,
     "metadata": {},
     "output_type": "execute_result"
    },
    {
     "data": {
      "image/png": "[encoded data removed]",
      "text/plain": [
       "<Figure size 576x396 with 2 Axes>"
      ]
     },
     "metadata": {},
     "output_type": "display_data"
    }
   ],
   "source": [
    "correl_matrix = train_data.corr(method = 'pearson')\n",
    "\n",
    "xnames = list(train_data.columns)\n",
    "ynames = list(train_data.columns)\n",
    "\n",
    "plot_corr(correl_matrix, xnames=xnames, ynames=ynames, title=None, normcolor=False, cmap='RdYlBu_r')"
   ]
  },
  {
   "cell_type": "code",
   "execution_count": 14,
   "metadata": {},
   "outputs": [
    {
     "data": {
      "text/html": [
       "<div>\n",
       "<style scoped>\n",
       "    .dataframe tbody tr th:only-of-type {\n",
       "        vertical-align: middle;\n",
       "    }\n",
       "\n",
       "    .dataframe tbody tr th {\n",
       "        vertical-align: top;\n",
       "    }\n",
       "\n",
       "    .dataframe thead th {\n",
       "        text-align: right;\n",
       "    }\n",
       "</style>\n",
       "<table border=\"1\" class=\"dataframe\">\n",
       "  <thead>\n",
       "    <tr style=\"text-align: right;\">\n",
       "      <th></th>\n",
       "      <th>land_over_25k_sqft</th>\n",
       "      <th>non_retail_proportion</th>\n",
       "      <th>river_dummy</th>\n",
       "      <th>nitric_oxide_pp10m</th>\n",
       "      <th>avg_rooms</th>\n",
       "      <th>bulit_prior1940_proportion</th>\n",
       "      <th>distances_employment</th>\n",
       "      <th>radial_highways_access</th>\n",
       "      <th>property_tax_rate_per10k</th>\n",
       "      <th>pupil_teacher_ratio</th>\n",
       "      <th>lower_status_percentage</th>\n",
       "      <th>median_value_homes</th>\n",
       "      <th>crime_rate_per_capita</th>\n",
       "    </tr>\n",
       "  </thead>\n",
       "  <tbody>\n",
       "    <tr>\n",
       "      <th>land_over_25k_sqft</th>\n",
       "      <td>1.000000</td>\n",
       "      <td>-0.540095</td>\n",
       "      <td>-0.059189</td>\n",
       "      <td>-0.520305</td>\n",
       "      <td>0.355346</td>\n",
       "      <td>-0.577457</td>\n",
       "      <td>0.659340</td>\n",
       "      <td>-0.311920</td>\n",
       "      <td>-0.324172</td>\n",
       "      <td>-0.424612</td>\n",
       "      <td>-0.435827</td>\n",
       "      <td>0.422574</td>\n",
       "      <td>-0.198455</td>\n",
       "    </tr>\n",
       "    <tr>\n",
       "      <th>non_retail_proportion</th>\n",
       "      <td>-0.540095</td>\n",
       "      <td>1.000000</td>\n",
       "      <td>0.065271</td>\n",
       "      <td>0.758178</td>\n",
       "      <td>-0.399166</td>\n",
       "      <td>0.667887</td>\n",
       "      <td>-0.728968</td>\n",
       "      <td>0.580813</td>\n",
       "      <td>0.702973</td>\n",
       "      <td>0.398513</td>\n",
       "      <td>0.607457</td>\n",
       "      <td>-0.508338</td>\n",
       "      <td>0.387471</td>\n",
       "    </tr>\n",
       "    <tr>\n",
       "      <th>river_dummy</th>\n",
       "      <td>-0.059189</td>\n",
       "      <td>0.065271</td>\n",
       "      <td>1.000000</td>\n",
       "      <td>0.091469</td>\n",
       "      <td>0.107996</td>\n",
       "      <td>0.106329</td>\n",
       "      <td>-0.098551</td>\n",
       "      <td>0.022731</td>\n",
       "      <td>-0.007864</td>\n",
       "      <td>-0.094255</td>\n",
       "      <td>-0.041110</td>\n",
       "      <td>0.136831</td>\n",
       "      <td>-0.044587</td>\n",
       "    </tr>\n",
       "    <tr>\n",
       "      <th>nitric_oxide_pp10m</th>\n",
       "      <td>-0.520305</td>\n",
       "      <td>0.758178</td>\n",
       "      <td>0.091469</td>\n",
       "      <td>1.000000</td>\n",
       "      <td>-0.306510</td>\n",
       "      <td>0.742016</td>\n",
       "      <td>-0.776311</td>\n",
       "      <td>0.606721</td>\n",
       "      <td>0.662164</td>\n",
       "      <td>0.206809</td>\n",
       "      <td>0.603656</td>\n",
       "      <td>-0.453424</td>\n",
       "      <td>0.405813</td>\n",
       "    </tr>\n",
       "    <tr>\n",
       "      <th>avg_rooms</th>\n",
       "      <td>0.355346</td>\n",
       "      <td>-0.399166</td>\n",
       "      <td>0.107996</td>\n",
       "      <td>-0.306510</td>\n",
       "      <td>1.000000</td>\n",
       "      <td>-0.263085</td>\n",
       "      <td>0.215439</td>\n",
       "      <td>-0.183000</td>\n",
       "      <td>-0.280341</td>\n",
       "      <td>-0.350828</td>\n",
       "      <td>-0.586573</td>\n",
       "      <td>0.666761</td>\n",
       "      <td>-0.167258</td>\n",
       "    </tr>\n",
       "    <tr>\n",
       "      <th>bulit_prior1940_proportion</th>\n",
       "      <td>-0.577457</td>\n",
       "      <td>0.667887</td>\n",
       "      <td>0.106329</td>\n",
       "      <td>0.742016</td>\n",
       "      <td>-0.263085</td>\n",
       "      <td>1.000000</td>\n",
       "      <td>-0.751059</td>\n",
       "      <td>0.458717</td>\n",
       "      <td>0.515376</td>\n",
       "      <td>0.289976</td>\n",
       "      <td>0.639881</td>\n",
       "      <td>-0.419062</td>\n",
       "      <td>0.355730</td>\n",
       "    </tr>\n",
       "    <tr>\n",
       "      <th>distances_employment</th>\n",
       "      <td>0.659340</td>\n",
       "      <td>-0.728968</td>\n",
       "      <td>-0.098551</td>\n",
       "      <td>-0.776311</td>\n",
       "      <td>0.215439</td>\n",
       "      <td>-0.751059</td>\n",
       "      <td>1.000000</td>\n",
       "      <td>-0.494932</td>\n",
       "      <td>-0.543333</td>\n",
       "      <td>-0.259140</td>\n",
       "      <td>-0.522120</td>\n",
       "      <td>0.289658</td>\n",
       "      <td>-0.378997</td>\n",
       "    </tr>\n",
       "    <tr>\n",
       "      <th>radial_highways_access</th>\n",
       "      <td>-0.311920</td>\n",
       "      <td>0.580813</td>\n",
       "      <td>0.022731</td>\n",
       "      <td>0.606721</td>\n",
       "      <td>-0.183000</td>\n",
       "      <td>0.458717</td>\n",
       "      <td>-0.494932</td>\n",
       "      <td>1.000000</td>\n",
       "      <td>0.908578</td>\n",
       "      <td>0.462290</td>\n",
       "      <td>0.456592</td>\n",
       "      <td>-0.383132</td>\n",
       "      <td>0.608838</td>\n",
       "    </tr>\n",
       "    <tr>\n",
       "      <th>property_tax_rate_per10k</th>\n",
       "      <td>-0.324172</td>\n",
       "      <td>0.702973</td>\n",
       "      <td>-0.007864</td>\n",
       "      <td>0.662164</td>\n",
       "      <td>-0.280341</td>\n",
       "      <td>0.515376</td>\n",
       "      <td>-0.543333</td>\n",
       "      <td>0.908578</td>\n",
       "      <td>1.000000</td>\n",
       "      <td>0.462556</td>\n",
       "      <td>0.528029</td>\n",
       "      <td>-0.478903</td>\n",
       "      <td>0.565035</td>\n",
       "    </tr>\n",
       "    <tr>\n",
       "      <th>pupil_teacher_ratio</th>\n",
       "      <td>-0.424612</td>\n",
       "      <td>0.398513</td>\n",
       "      <td>-0.094255</td>\n",
       "      <td>0.206809</td>\n",
       "      <td>-0.350828</td>\n",
       "      <td>0.289976</td>\n",
       "      <td>-0.259140</td>\n",
       "      <td>0.462290</td>\n",
       "      <td>0.462556</td>\n",
       "      <td>1.000000</td>\n",
       "      <td>0.374842</td>\n",
       "      <td>-0.503692</td>\n",
       "      <td>0.276530</td>\n",
       "    </tr>\n",
       "    <tr>\n",
       "      <th>lower_status_percentage</th>\n",
       "      <td>-0.435827</td>\n",
       "      <td>0.607457</td>\n",
       "      <td>-0.041110</td>\n",
       "      <td>0.603656</td>\n",
       "      <td>-0.586573</td>\n",
       "      <td>0.639881</td>\n",
       "      <td>-0.522120</td>\n",
       "      <td>0.456592</td>\n",
       "      <td>0.528029</td>\n",
       "      <td>0.374842</td>\n",
       "      <td>1.000000</td>\n",
       "      <td>-0.743548</td>\n",
       "      <td>0.406340</td>\n",
       "    </tr>\n",
       "    <tr>\n",
       "      <th>median_value_homes</th>\n",
       "      <td>0.422574</td>\n",
       "      <td>-0.508338</td>\n",
       "      <td>0.136831</td>\n",
       "      <td>-0.453424</td>\n",
       "      <td>0.666761</td>\n",
       "      <td>-0.419062</td>\n",
       "      <td>0.289658</td>\n",
       "      <td>-0.383132</td>\n",
       "      <td>-0.478903</td>\n",
       "      <td>-0.503692</td>\n",
       "      <td>-0.743548</td>\n",
       "      <td>1.000000</td>\n",
       "      <td>-0.378949</td>\n",
       "    </tr>\n",
       "    <tr>\n",
       "      <th>crime_rate_per_capita</th>\n",
       "      <td>-0.198455</td>\n",
       "      <td>0.387471</td>\n",
       "      <td>-0.044587</td>\n",
       "      <td>0.405813</td>\n",
       "      <td>-0.167258</td>\n",
       "      <td>0.355730</td>\n",
       "      <td>-0.378997</td>\n",
       "      <td>0.608838</td>\n",
       "      <td>0.565035</td>\n",
       "      <td>0.276530</td>\n",
       "      <td>0.406340</td>\n",
       "      <td>-0.378949</td>\n",
       "      <td>1.000000</td>\n",
       "    </tr>\n",
       "  </tbody>\n",
       "</table>\n",
       "</div>"
      ],
      "text/plain": [
       "                            land_over_25k_sqft  non_retail_proportion  \\\n",
       "land_over_25k_sqft                    1.000000              -0.540095   \n",
       "non_retail_proportion                -0.540095               1.000000   \n",
       "river_dummy                          -0.059189               0.065271   \n",
       "nitric_oxide_pp10m                   -0.520305               0.758178   \n",
       "avg_rooms                             0.355346              -0.399166   \n",
       "bulit_prior1940_proportion           -0.577457               0.667887   \n",
       "distances_employment                  0.659340              -0.728968   \n",
       "radial_highways_access               -0.311920               0.580813   \n",
       "property_tax_rate_per10k             -0.324172               0.702973   \n",
       "pupil_teacher_ratio                  -0.424612               0.398513   \n",
       "lower_status_percentage              -0.435827               0.607457   \n",
       "median_value_homes                    0.422574              -0.508338   \n",
       "crime_rate_per_capita                -0.198455               0.387471   \n",
       "\n",
       "                            river_dummy  nitric_oxide_pp10m  avg_rooms  \\\n",
       "land_over_25k_sqft            -0.059189           -0.520305   0.355346   \n",
       "non_retail_proportion          0.065271            0.758178  -0.399166   \n",
       "river_dummy                    1.000000            0.091469   0.107996   \n",
       "nitric_oxide_pp10m             0.091469            1.000000  -0.306510   \n",
       "avg_rooms                      0.107996           -0.306510   1.000000   \n",
       "bulit_prior1940_proportion     0.106329            0.742016  -0.263085   \n",
       "distances_employment          -0.098551           -0.776311   0.215439   \n",
       "radial_highways_access         0.022731            0.606721  -0.183000   \n",
       "property_tax_rate_per10k      -0.007864            0.662164  -0.280341   \n",
       "pupil_teacher_ratio           -0.094255            0.206809  -0.350828   \n",
       "lower_status_percentage       -0.041110            0.603656  -0.586573   \n",
       "median_value_homes             0.136831           -0.453424   0.666761   \n",
       "crime_rate_per_capita         -0.044587            0.405813  -0.167258   \n",
       "\n",
       "                            bulit_prior1940_proportion  distances_employment  \\\n",
       "land_over_25k_sqft                           -0.577457              0.659340   \n",
       "non_retail_proportion                         0.667887             -0.728968   \n",
       "river_dummy                                   0.106329             -0.098551   \n",
       "nitric_oxide_pp10m                            0.742016             -0.776311   \n",
       "avg_rooms                                    -0.263085              0.215439   \n",
       "bulit_prior1940_proportion                    1.000000             -0.751059   \n",
       "distances_employment                         -0.751059              1.000000   \n",
       "radial_highways_access                        0.458717             -0.494932   \n",
       "property_tax_rate_per10k                      0.515376             -0.543333   \n",
       "pupil_teacher_ratio                           0.289976             -0.259140   \n",
       "lower_status_percentage                       0.639881             -0.522120   \n",
       "median_value_homes                           -0.419062              0.289658   \n",
       "crime_rate_per_capita                         0.355730             -0.378997   \n",
       "\n",
       "                            radial_highways_access  property_tax_rate_per10k  \\\n",
       "land_over_25k_sqft                       -0.311920                 -0.324172   \n",
       "non_retail_proportion                     0.580813                  0.702973   \n",
       "river_dummy                               0.022731                 -0.007864   \n",
       "nitric_oxide_pp10m                        0.606721                  0.662164   \n",
       "avg_rooms                                -0.183000                 -0.280341   \n",
       "bulit_prior1940_proportion                0.458717                  0.515376   \n",
       "distances_employment                     -0.494932                 -0.543333   \n",
       "radial_highways_access                    1.000000                  0.908578   \n",
       "property_tax_rate_per10k                  0.908578                  1.000000   \n",
       "pupil_teacher_ratio                       0.462290                  0.462556   \n",
       "lower_status_percentage                   0.456592                  0.528029   \n",
       "median_value_homes                       -0.383132                 -0.478903   \n",
       "crime_rate_per_capita                     0.608838                  0.565035   \n",
       "\n",
       "                            pupil_teacher_ratio  lower_status_percentage  \\\n",
       "land_over_25k_sqft                    -0.424612                -0.435827   \n",
       "non_retail_proportion                  0.398513                 0.607457   \n",
       "river_dummy                           -0.094255                -0.041110   \n",
       "nitric_oxide_pp10m                     0.206809                 0.603656   \n",
       "avg_rooms                             -0.350828                -0.586573   \n",
       "bulit_prior1940_proportion             0.289976                 0.639881   \n",
       "distances_employment                  -0.259140                -0.522120   \n",
       "radial_highways_access                 0.462290                 0.456592   \n",
       "property_tax_rate_per10k               0.462556                 0.528029   \n",
       "pupil_teacher_ratio                    1.000000                 0.374842   \n",
       "lower_status_percentage                0.374842                 1.000000   \n",
       "median_value_homes                    -0.503692                -0.743548   \n",
       "crime_rate_per_capita                  0.276530                 0.406340   \n",
       "\n",
       "                            median_value_homes  crime_rate_per_capita  \n",
       "land_over_25k_sqft                    0.422574              -0.198455  \n",
       "non_retail_proportion                -0.508338               0.387471  \n",
       "river_dummy                           0.136831              -0.044587  \n",
       "nitric_oxide_pp10m                   -0.453424               0.405813  \n",
       "avg_rooms                             0.666761              -0.167258  \n",
       "bulit_prior1940_proportion           -0.419062               0.355730  \n",
       "distances_employment                  0.289658              -0.378997  \n",
       "radial_highways_access               -0.383132               0.608838  \n",
       "property_tax_rate_per10k             -0.478903               0.565035  \n",
       "pupil_teacher_ratio                  -0.503692               0.276530  \n",
       "lower_status_percentage              -0.743548               0.406340  \n",
       "median_value_homes                    1.000000              -0.378949  \n",
       "crime_rate_per_capita                -0.378949               1.000000  "
      ]
     },
     "execution_count": 14,
     "metadata": {},
     "output_type": "execute_result"
    }
   ],
   "source": [
    "correl_matrix"
   ]
  },
  {
   "cell_type": "markdown",
   "metadata": {},
   "source": [
    "## Graphical Investigation of Linear Relationships"
   ]
  },
  {
   "cell_type": "markdown",
   "metadata": {},
   "source": [
    "### based on Exercise 2.02 from \"The Data Science Workshop\", published by Packt"
   ]
  },
  {
   "cell_type": "markdown",
   "metadata": {},
   "source": [
    "#### use matplotlib to visualize data, seaborn.regplot to create the scatter plot (ci - confidence interval of the regression parameters)"
   ]
  },
  {
   "cell_type": "code",
   "execution_count": 15,
   "metadata": {},
   "outputs": [
    {
     "data": {
      "image/png": "[encoded data removed]",
      "text/plain": [
       "<Figure size 720x432 with 1 Axes>"
      ]
     },
     "metadata": {},
     "output_type": "display_data"
    }
   ],
   "source": [
    "fig, ax = plt.subplots(figsize=(10,6))\n",
    "\n",
    "sns.regplot(x='median_value_homes', y='crime_rate_per_capita', ci=None, data=train_data, ax=ax, color='k', \\\n",
    "           scatter_kws={\"s\" : 20, \"color\" : \"royalblue\", \"alpha\" : 1})\n",
    "\n",
    "ax.set_ylabel('Crime rate per capita', fontsize=15, fontname='DejaVu Sans')\n",
    "ax.set_xlabel('Median value of owner-occupied homes (in $1000)', fontsize=15, fontname='DejaVu Sans')\n",
    "\n",
    "ax.set_xlim(left=None, right=None)\n",
    "ax.set_ylim(bottom=None, top=30)\n",
    "\n",
    "ax.tick_params(axis='both', which='major', labelsize=12)\n",
    "fig.tight_layout()"
   ]
  },
  {
   "cell_type": "markdown",
   "metadata": {},
   "source": [
    "## Examining Log-Linear Relationship"
   ]
  },
  {
   "cell_type": "markdown",
   "metadata": {},
   "source": [
    "### based on Exercise 2.03 from \"The Data Science Workshop\", published by Packt"
   ]
  },
  {
   "cell_type": "markdown",
   "metadata": {},
   "source": [
    "#### use numpy log function on y, set seaborn.regplot confidence interval argument ci = 95%"
   ]
  },
  {
   "cell_type": "code",
   "execution_count": 16,
   "metadata": {},
   "outputs": [
    {
     "data": {
      "image/png": "[encoded data removed]",
      "text/plain": [
       "<Figure size 720x432 with 1 Axes>"
      ]
     },
     "metadata": {},
     "output_type": "display_data"
    }
   ],
   "source": [
    "fig, ax = plt.subplots(figsize=(10,6))\n",
    "\n",
    "y = np.log(train_data['crime_rate_per_capita'])\n",
    "\n",
    "sns.regplot(x='median_value_homes', y=y, ci=95, data=train_data, ax=ax, color='k', \\\n",
    "           scatter_kws={\"s\" : 20, \"color\" : \"royalblue\", \"alpha\" : 1})\n",
    "\n",
    "ax.set_ylabel('Log of crime rate per capita', fontsize=15, fontname='DejaVu Sans')\n",
    "ax.set_xlabel('Median value of owner-occupied homes (in $1000)', fontsize=15, fontname='DejaVu Sans')\n",
    "\n",
    "ax.set_xlim(left=None, right=None)\n",
    "ax.set_ylim(bottom=None, top=None)\n",
    "\n",
    "ax.tick_params(axis='both', which='major', labelsize=12)\n",
    "fig.tight_layout()"
   ]
  },
  {
   "cell_type": "markdown",
   "metadata": {},
   "source": [
    "## Fitting a Simple Linear Regression Model"
   ]
  },
  {
   "cell_type": "markdown",
   "metadata": {},
   "source": [
    "### based on Exercise 2.04 from \"The Data Science Workshop\", published by Packt"
   ]
  },
  {
   "cell_type": "markdown",
   "metadata": {},
   "source": [
    "#### examine linear regression model where crime rate per capita is dependent variable and median value of homes is independent value\n",
    "#### use statsmodel formula API to create linear regression model (ols function, patsy formula with ~), call .fit() , and print summary (.summary())"
   ]
  },
  {
   "cell_type": "code",
   "execution_count": 17,
   "metadata": {},
   "outputs": [
    {
     "name": "stdout",
     "output_type": "stream",
     "text": [
      "                              OLS Regression Results                             \n",
      "=================================================================================\n",
      "Dep. Variable:     crime_rate_per_capita   R-squared:                       0.144\n",
      "Model:                               OLS   Adj. R-squared:                  0.141\n",
      "Method:                    Least Squares   F-statistic:                     59.02\n",
      "Date:                   Sun, 01 Aug 2021   Prob (F-statistic):           1.56e-13\n",
      "Time:                           12:18:04   Log-Likelihood:                -1217.4\n",
      "No. Observations:                    354   AIC:                             2439.\n",
      "Df Residuals:                        352   BIC:                             2447.\n",
      "Df Model:                              1                                         \n",
      "Covariance Type:               nonrobust                                         \n",
      "======================================================================================\n",
      "                         coef    std err          t      P>|t|      [0.025      0.975]\n",
      "--------------------------------------------------------------------------------------\n",
      "Intercept             11.2094      1.079     10.386      0.000       9.087      13.332\n",
      "median_value_homes    -0.3502      0.046     -7.683      0.000      -0.440      -0.261\n",
      "==============================================================================\n",
      "Omnibus:                      447.354   Durbin-Watson:                   1.928\n",
      "Prob(Omnibus):                  0.000   Jarque-Bera (JB):            39791.431\n",
      "Skew:                           5.897   Prob(JB):                         0.00\n",
      "Kurtosis:                      53.583   Cond. No.                         63.7\n",
      "==============================================================================\n",
      "\n",
      "Notes:\n",
      "[1] Standard Errors assume that the covariance matrix of the errors is correctly specified.\n"
     ]
    }
   ],
   "source": [
    "linear_model = smf.ols(formula='crime_rate_per_capita ~ median_value_homes', data=train_data)\n",
    "linear_model_result = linear_model.fit()\n",
    "print(linear_model_result.summary())"
   ]
  },
  {
   "cell_type": "markdown",
   "metadata": {},
   "source": [
    "## Fitting a Log-Linear Model"
   ]
  },
  {
   "cell_type": "markdown",
   "metadata": {},
   "source": [
    "### based on Activity 2.01 from \"The Data Science Workshop\", published by Packt"
   ]
  },
  {
   "cell_type": "markdown",
   "metadata": {},
   "source": [
    "#### now log-linear regression model is examined"
   ]
  },
  {
   "cell_type": "code",
   "execution_count": 18,
   "metadata": {},
   "outputs": [
    {
     "name": "stdout",
     "output_type": "stream",
     "text": [
      "                            OLS Regression Results                            \n",
      "==============================================================================\n",
      "Dep. Variable:                      y   R-squared:                       0.238\n",
      "Model:                            OLS   Adj. R-squared:                  0.236\n",
      "Method:                 Least Squares   F-statistic:                     109.9\n",
      "Date:                Sun, 01 Aug 2021   Prob (F-statistic):           1.48e-22\n",
      "Time:                        12:18:04   Log-Likelihood:                -727.67\n",
      "No. Observations:                 354   AIC:                             1459.\n",
      "Df Residuals:                     352   BIC:                             1467.\n",
      "Df Model:                           1                                         \n",
      "Covariance Type:            nonrobust                                         \n",
      "======================================================================================\n",
      "                         coef    std err          t      P>|t|      [0.025      0.975]\n",
      "--------------------------------------------------------------------------------------\n",
      "Intercept              1.9107      0.271      7.062      0.000       1.379       2.443\n",
      "median_value_homes    -0.1198      0.011    -10.482      0.000      -0.142      -0.097\n",
      "==============================================================================\n",
      "Omnibus:                       11.420   Durbin-Watson:                   1.907\n",
      "Prob(Omnibus):                  0.003   Jarque-Bera (JB):               10.764\n",
      "Skew:                           0.376   Prob(JB):                      0.00460\n",
      "Kurtosis:                       2.594   Cond. No.                         63.7\n",
      "==============================================================================\n",
      "\n",
      "Notes:\n",
      "[1] Standard Errors assume that the covariance matrix of the errors is correctly specified.\n"
     ]
    }
   ],
   "source": [
    "y = np.log(train_data['crime_rate_per_capita'])\n",
    "\n",
    "log_linear_model = smf.ols(formula='y ~ median_value_homes', data=train_data)\n",
    "log_linear_model_result = log_linear_model.fit()\n",
    "print(log_linear_model_result.summary())"
   ]
  },
  {
   "cell_type": "markdown",
   "metadata": {},
   "source": [
    "## Fitting a Multiple Linear Regression Model"
   ]
  },
  {
   "cell_type": "markdown",
   "metadata": {},
   "source": [
    "### based on Exercise 2.05 from \"The Data Science Workshop\", published by Packt"
   ]
  },
  {
   "cell_type": "markdown",
   "metadata": {},
   "source": [
    "#### use patsy formula with + to include more than one independent variable in a linear regression model"
   ]
  },
  {
   "cell_type": "code",
   "execution_count": 19,
   "metadata": {},
   "outputs": [
    {
     "name": "stdout",
     "output_type": "stream",
     "text": [
      "                              OLS Regression Results                             \n",
      "=================================================================================\n",
      "Dep. Variable:     crime_rate_per_capita   R-squared:                       0.398\n",
      "Model:                               OLS   Adj. R-squared:                  0.391\n",
      "Method:                    Least Squares   F-statistic:                     57.77\n",
      "Date:                   Sun, 01 Aug 2021   Prob (F-statistic):           2.19e-37\n",
      "Time:                           12:18:04   Log-Likelihood:                -1154.9\n",
      "No. Observations:                    354   AIC:                             2320.\n",
      "Df Residuals:                        349   BIC:                             2339.\n",
      "Df Model:                              4                                         \n",
      "Covariance Type:               nonrobust                                         \n",
      "===========================================================================================\n",
      "                              coef    std err          t      P>|t|      [0.025      0.975]\n",
      "-------------------------------------------------------------------------------------------\n",
      "Intercept                   0.8912      2.670      0.334      0.739      -4.360       6.142\n",
      "lower_status_percentage     0.1028      0.080      1.277      0.202      -0.055       0.261\n",
      "radial_highways_access      0.4948      0.048     10.216      0.000       0.400       0.590\n",
      "median_value_homes         -0.1103      0.058     -1.916      0.056      -0.224       0.003\n",
      "nitric_oxide_pp10m         -2.1039      4.131     -0.509      0.611     -10.229       6.021\n",
      "==============================================================================\n",
      "Omnibus:                      534.476   Durbin-Watson:                   1.999\n",
      "Prob(Omnibus):                  0.000   Jarque-Bera (JB):           100129.789\n",
      "Skew:                           7.866   Prob(JB):                         0.00\n",
      "Kurtosis:                      83.876   Cond. No.                         374.\n",
      "==============================================================================\n",
      "\n",
      "Notes:\n",
      "[1] Standard Errors assume that the covariance matrix of the errors is correctly specified.\n"
     ]
    }
   ],
   "source": [
    "multi_linear_model = smf.ols(formula='crime_rate_per_capita ~ lower_status_percentage + \\\n",
    "                                        radial_highways_access + median_value_homes + \\\n",
    "                                        nitric_oxide_pp10m', data=train_data)\n",
    "multi_linear_model_result = multi_linear_model.fit()\n",
    "print(multi_linear_model_result.summary())"
   ]
  },
  {
   "cell_type": "markdown",
   "metadata": {},
   "source": [
    "## Fitting a Multiple Log-Linear Regression Model"
   ]
  },
  {
   "cell_type": "markdown",
   "metadata": {},
   "source": [
    "### based on Activity 2.01 from \"The Data Science Workshop\", published by Packt"
   ]
  },
  {
   "cell_type": "markdown",
   "metadata": {},
   "source": [
    "#### include more than one independent variable in a log-linear regression model, use patsy formula with **2 (model with 2nd order interaction) "
   ]
  },
  {
   "cell_type": "code",
   "execution_count": 20,
   "metadata": {},
   "outputs": [
    {
     "name": "stdout",
     "output_type": "stream",
     "text": [
      "                            OLS Regression Results                            \n",
      "==============================================================================\n",
      "Dep. Variable:                      y   R-squared:                       0.884\n",
      "Model:                            OLS   Adj. R-squared:                  0.881\n",
      "Method:                 Least Squares   F-statistic:                     261.5\n",
      "Date:                Sun, 01 Aug 2021   Prob (F-statistic):          7.79e-154\n",
      "Time:                        12:18:04   Log-Likelihood:                -394.39\n",
      "No. Observations:                 354   AIC:                             810.8\n",
      "Df Residuals:                     343   BIC:                             853.3\n",
      "Df Model:                          10                                         \n",
      "Covariance Type:            nonrobust                                         \n",
      "==================================================================================================================\n",
      "                                                     coef    std err          t      P>|t|      [0.025      0.975]\n",
      "------------------------------------------------------------------------------------------------------------------\n",
      "Intercept                                         -5.4707      1.490     -3.671      0.000      -8.402      -2.540\n",
      "lower_status_percentage                            0.1541      0.049      3.161      0.002       0.058       0.250\n",
      "radial_highways_access                             0.4697      0.052      9.070      0.000       0.368       0.572\n",
      "median_value_homes                                -0.1457      0.044     -3.325      0.001      -0.232      -0.059\n",
      "nitric_oxide_pp10m                                 3.4509      3.000      1.150      0.251      -2.450       9.352\n",
      "lower_status_percentage:radial_highways_access    -0.0006      0.001     -0.576      0.565      -0.003       0.002\n",
      "lower_status_percentage:median_value_homes        -0.0041      0.001     -4.159      0.000      -0.006      -0.002\n",
      "lower_status_percentage:nitric_oxide_pp10m        -0.0783      0.081     -0.964      0.336      -0.238       0.082\n",
      "radial_highways_access:median_value_homes         -0.0027      0.001     -2.694      0.007      -0.005      -0.001\n",
      "radial_highways_access:nitric_oxide_pp10m         -0.4234      0.066     -6.404      0.000      -0.553      -0.293\n",
      "median_value_homes:nitric_oxide_pp10m              0.3552      0.092      3.869      0.000       0.175       0.536\n",
      "==============================================================================\n",
      "Omnibus:                        4.124   Durbin-Watson:                   1.966\n",
      "Prob(Omnibus):                  0.127   Jarque-Bera (JB):                4.107\n",
      "Skew:                           0.175   Prob(JB):                        0.128\n",
      "Kurtosis:                       3.395   Cond. No.                     3.29e+04\n",
      "==============================================================================\n",
      "\n",
      "Notes:\n",
      "[1] Standard Errors assume that the covariance matrix of the errors is correctly specified.\n",
      "[2] The condition number is large, 3.29e+04. This might indicate that there are\n",
      "strong multicollinearity or other numerical problems.\n"
     ]
    }
   ],
   "source": [
    "y = np.log(train_data['crime_rate_per_capita'])\n",
    "\n",
    "multi_log_linear_model = smf.ols(formula='y ~ (lower_status_percentage + \\\n",
    "                                        radial_highways_access + median_value_homes + \\\n",
    "                                        nitric_oxide_pp10m)**2', data=train_data)\n",
    "multi_log_linear_model_result = multi_log_linear_model.fit()\n",
    "print(multi_log_linear_model_result.summary())"
   ]
  },
  {
   "cell_type": "markdown",
   "metadata": {},
   "source": [
    "#### Conlusions:\n",
    "##### - the highest R2 (adj. in the case of multiple regressions) of all applied model (0.881)\n",
    "##### - F-test value (F-statistic) higher than 1, p-value (Prob (F-statistic)) approx. to 0, which is lower than alpha (0.05), so null hypothesis can be rejected\n",
    "##### - therefore, the model is statistically significant at the chosen 95% confidence level\n",
    "##### - in some cases p-values of independent variables nad terms are higher than 0.05 meaning they are not statistically significant"
   ]
  }
 ],
 "metadata": {
  "kernelspec": {
   "display_name": "Python 3",
   "language": "python",
   "name": "python3"
  },
  "language_info": {
   "codemirror_mode": {
    "name": "ipython",
    "version": 3
   },
   "file_extension": ".py",
   "mimetype": "text/x-python",
   "name": "python",
   "nbconvert_exporter": "python",
   "pygments_lexer": "ipython3",
   "version": "3.8.5"
  }
 },
 "nbformat": 4,
 "nbformat_minor": 4
}
